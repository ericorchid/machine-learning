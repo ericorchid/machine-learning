{
 "cells": [
  {
   "cell_type": "markdown",
   "metadata": {},
   "source": [
    "# Lecture-02 From Dynamic Programming to Machine Learning\n",
    "\n",
    "# 动态规划"
   ]
  },
  {
   "cell_type": "markdown",
   "metadata": {},
   "source": [
    "## Dynamic Programming\n",
    "![](https://watertap.oss-ap-southeast-2.aliyuncs.com/img/20210307075824.png)\n",
    "![](https://watertap.oss-ap-southeast-2.aliyuncs.com/img/20210307075926.png)\n",
    "组合，以4为例，可以拆成两个子问题相加，子问题继续拆子问题，最底层是0和1不拆，其中涉及很多重复项计算\n",
    "（0本身就不拆，1是最小子问题也不拆）\n",
    "- 0,4 不拆，本次已经拆了，就看4是否为可解问题\n",
    "- 1,3\n",
    "    拆左1 不拆，1是最小问题，为可解问题\n",
    "    拆右3\n",
    "       - 0,3 不拆，本次已经拆了，就看4是否为可解问题\n",
    "       - 1,2 \n",
    "           拆左1 不拆，1是最小问题，为可解问题\n",
    "           拆右2\n",
    "               - 1,1\n",
    "       - 2,1\n",
    "           拆左2\n",
    "               - 1,1\n",
    "           拆右1 不拆，1是最小问题，为可解问题\n",
    "- 2，2\n",
    "    拆左2\n",
    "        1，1，2\n",
    "    拆右2\n",
    "        2，1，1\n",
    "        \n",
    "- 3，1"
   ]
  },
  {
   "cell_type": "code",
   "execution_count": 326,
   "metadata": {},
   "outputs": [],
   "source": [
    "original_price = [1,5,8,9,10,17,17,20,24,30,33]\n",
    "price = {i+1:p for i,p in enumerate(original_price)}"
   ]
  },
  {
   "cell_type": "code",
   "execution_count": 327,
   "metadata": {},
   "outputs": [
    {
     "data": {
      "text/plain": [
       "8"
      ]
     },
     "execution_count": 327,
     "metadata": {},
     "output_type": "execute_result"
    }
   ],
   "source": [
    "price[3]"
   ]
  },
  {
   "cell_type": "code",
   "execution_count": 565,
   "metadata": {},
   "outputs": [],
   "source": [
    "def combinations(n):\n",
    "    candidates = []\n",
    "#     if n>1:\n",
    "    for i in range(1,n):\n",
    "        candidates.append((combinations(i),combinations(n-i)))\n",
    "    candidates.append((n,0))\n",
    "    return candidates"
   ]
  },
  {
   "cell_type": "code",
   "execution_count": 566,
   "metadata": {},
   "outputs": [
    {
     "name": "stdout",
     "output_type": "stream",
     "text": [
      "([(1, 0)], [([(1, 0)], [([(1, 0)], [(1, 0)]), (2, 0)]), ([([(1, 0)], [(1, 0)]), (2, 0)], [(1, 0)]), (3, 0)])\n",
      "([([(1, 0)], [(1, 0)]), (2, 0)], [([(1, 0)], [(1, 0)]), (2, 0)])\n",
      "([([(1, 0)], [([(1, 0)], [(1, 0)]), (2, 0)]), ([([(1, 0)], [(1, 0)]), (2, 0)], [(1, 0)]), (3, 0)], [(1, 0)])\n",
      "(4, 0)\n"
     ]
    }
   ],
   "source": [
    "for i in combinations(4):\n",
    "    print(i)"
   ]
  },
  {
   "cell_type": "code",
   "execution_count": 569,
   "metadata": {},
   "outputs": [
    {
     "name": "stdout",
     "output_type": "stream",
     "text": [
      "组合 0  :  ([(1, 0)], [([(1, 0)], [([(1, 0)], [(1, 0)]), (2, 0)]), ([([(1, 0)], [(1, 0)]), (2, 0)], [(1, 0)]), (3, 0)])\n",
      "    分割为\n",
      "        (1, 0)\n",
      "    分割为\n",
      "        ([(1, 0)], [([(1, 0)], [(1, 0)]), (2, 0)])\n",
      "    分割为\n",
      "        ([([(1, 0)], [(1, 0)]), (2, 0)], [(1, 0)])\n",
      "    分割为\n",
      "        (3, 0)\n",
      "组合 1  :  ([([(1, 0)], [(1, 0)]), (2, 0)], [([(1, 0)], [(1, 0)]), (2, 0)])\n",
      "    分割为\n",
      "        ([(1, 0)], [(1, 0)])\n",
      "    分割为\n",
      "        (2, 0)\n",
      "    分割为\n",
      "        ([(1, 0)], [(1, 0)])\n",
      "    分割为\n",
      "        (2, 0)\n",
      "组合 2  :  ([([(1, 0)], [([(1, 0)], [(1, 0)]), (2, 0)]), ([([(1, 0)], [(1, 0)]), (2, 0)], [(1, 0)]), (3, 0)], [(1, 0)])\n",
      "    分割为\n",
      "        ([(1, 0)], [([(1, 0)], [(1, 0)]), (2, 0)])\n",
      "    分割为\n",
      "        ([([(1, 0)], [(1, 0)]), (2, 0)], [(1, 0)])\n",
      "    分割为\n",
      "        (3, 0)\n",
      "    分割为\n",
      "        (1, 0)\n",
      "组合 3  :  (4, 0)\n",
      "    分割为\n",
      "        4\n",
      "    分割为\n",
      "        0\n"
     ]
    }
   ],
   "source": [
    "result = combinations(4)\n",
    "for i in range(len(result)):\n",
    "    print('组合',i,' : ',result[i])\n",
    "    if isinstance(result[i],tuple):\n",
    "        for j in range(len(result[i])):\n",
    "            if isinstance(result[i][j],list):\n",
    "                for k in range(len(result[i][j])):\n",
    "                    print('    分割为')\n",
    "                    print(\"       \",result[i][j][k])\n",
    "            else: \n",
    "                print('    分割为')\n",
    "                print(\"       \",result[i][j])\n",
    "#     else: \n",
    "#         print('    分割为')\n",
    "#         print(\"       \",result[i])"
   ]
  },
  {
   "cell_type": "code",
   "execution_count": 330,
   "metadata": {},
   "outputs": [],
   "source": [
    "# 动态规划组合基础上算收入，这里revenue没有实际相加，需要改良(原因时return的是candidates not price)\n",
    "def revenue(n):\n",
    "    candidates = []\n",
    "#     if n>1:\n",
    "    for i in range(1,int(n/2+1)):\n",
    "        candidates.append( (revenue(i)+revenue(n-i),i) )\n",
    "    candidates.append( (price[n],0,n) )\n",
    "    return candidates"
   ]
  },
  {
   "cell_type": "code",
   "execution_count": 331,
   "metadata": {},
   "outputs": [
    {
     "data": {
      "text/plain": [
       "[([(1, 0, 1), ([(1, 0, 1), (1, 0, 1)], 1), (5, 0, 2)], 1), (8, 0, 3)]"
      ]
     },
     "execution_count": 331,
     "metadata": {},
     "output_type": "execute_result"
    }
   ],
   "source": [
    "revenue(3)\n",
    "#  分割为1，4时\n",
    "#   1 返回 101\n",
    "#   4\n",
    "#     i=1  （1，3）\n",
    "#          执行 1 返回 101\n",
    "#          执行 3\n",
    "#                i=1\n",
    "#                    执行1 返回101\n",
    "#                    执行2\n",
    "#                        i=1 \n",
    "#                            执行1 返回101\n",
    "#                            执行1 返回101\n",
    "#                        执行2 返回502\n",
    "#                执行3 返回803\n",
    "#     i=2  （2，2）\n",
    "#          左拆1、1 \n",
    "#              执行1 返回101\n",
    "#              执行1 返回101\n",
    "#          左拆2\n",
    "#              执行2 返回502\n",
    "#          右拆1、1\n",
    "#              执行1 返回101\n",
    "#              执行1 返回101\n",
    "#          左拆2\n",
    "#              执行2 返回502\n",
    "#    执行4 返回9，0，4          \n",
    "#                        \n",
    "# [([(1, 0),\n",
    "#    ([(1, 0), ([(1, 0), ([(1, 0), (1, 0)], 1), (5, 0)], 1), (8, 0)], 1),\n",
    "#    ([([(1, 0), (1, 0)], 1), (5, 0), ([(1, 0), (1, 0)], 1), (5, 0)], 2),\n",
    "#    (9, 0)],\n",
    "#   1),\n",
    "#  分割为2 和 3 时\n",
    "#  ([([(1, 0), (1, 0)], 1),\n",
    "#    (5, 0),\n",
    "#    ([(1, 0), ([(1, 0), (1, 0)], 1), (5, 0)], 1),\n",
    "#    (8, 0)],\n",
    "#   2),\n",
    "#  分割为5时\n",
    "#  (10, 0)]"
   ]
  },
  {
   "cell_type": "markdown",
   "metadata": {},
   "source": [
    "### 优化1：动态规划 关注的是return 这里是从候选返回价格"
   ]
  },
  {
   "cell_type": "code",
   "execution_count": 594,
   "metadata": {},
   "outputs": [],
   "source": [
    "# 优化1\n",
    "#动态规划组合基础上算收入，return 改为max price\n",
    "solution = {}\n",
    "candidates = []\n",
    "def revenue(n):\n",
    "    global candidates\n",
    "    if n>1:\n",
    "        for i in range(1,n):\n",
    "            left = revenue(i)\n",
    "            right = revenue(n-i)\n",
    "            candidates.append( (left+right,i) )\n",
    "        \n",
    "    if n not in price: price[n] = 0\n",
    "    candidates.append( (price[n],0) )\n",
    "#     print(candidates)\n",
    "    return price[n]"
   ]
  },
  {
   "cell_type": "code",
   "execution_count": 595,
   "metadata": {},
   "outputs": [
    {
     "data": {
      "text/plain": [
       "[(1, 0),\n",
       " (1, 0),\n",
       " (1, 0),\n",
       " (2, 1),\n",
       " (5, 0),\n",
       " (6, 1),\n",
       " (1, 0),\n",
       " (1, 0),\n",
       " (2, 1),\n",
       " (5, 0),\n",
       " (1, 0),\n",
       " (6, 2),\n",
       " (8, 0)]"
      ]
     },
     "execution_count": 595,
     "metadata": {},
     "output_type": "execute_result"
    }
   ],
   "source": [
    "revenue(3)\n",
    "candidates\n",
    "# 执行1\n",
    "#   left=1\n",
    "#      1,0,1\n",
    "#   right=2\n",
    "#      left=1\n",
    "#        1,0,1\n",
    "#      right=1\n",
    "#        1,0,1\n",
    "#      sum: 2,1\n",
    "#      5,0,2\n",
    "#    sum: 6,1\n",
    "#  8,0,3"
   ]
  },
  {
   "cell_type": "markdown",
   "metadata": {},
   "source": [
    "### 优化2：动态规划，取candidates方案里revenue最大的"
   ]
  },
  {
   "cell_type": "code",
   "execution_count": 596,
   "metadata": {},
   "outputs": [],
   "source": [
    "# 优化2\n",
    "#动态规划组合基础上找最大收入，并记录分割点\n",
    "solution = {}\n",
    "def revenue(n):\n",
    "    candidates = []\n",
    "    if n>1:\n",
    "        for i in range(1,int(n/2+1)):\n",
    "            left = revenue(i)\n",
    "            right = revenue(n-i)\n",
    "            candidates.append( (left+right,i) )\n",
    "        \n",
    "    if n not in price: price[n] = 0\n",
    "    candidates.append( (price[n],0) )\n",
    "#     print(candidates)\n",
    "    max_price,max_split = max(candidates, key=lambda x:x[0])\n",
    "    \n",
    "    global solution\n",
    "    solution[n]=(max_split, n - max_split)\n",
    "    \n",
    "    return max_price"
   ]
  },
  {
   "cell_type": "code",
   "execution_count": 597,
   "metadata": {},
   "outputs": [
    {
     "name": "stdout",
     "output_type": "stream",
     "text": [
      "CPU times: user 34 µs, sys: 2 µs, total: 36 µs\n",
      "Wall time: 39.6 µs\n"
     ]
    },
    {
     "data": {
      "text/plain": [
       "8"
      ]
     },
     "execution_count": 597,
     "metadata": {},
     "output_type": "execute_result"
    }
   ],
   "source": [
    "%%time\n",
    "revenue(3)"
   ]
  },
  {
   "cell_type": "code",
   "execution_count": 598,
   "metadata": {},
   "outputs": [
    {
     "data": {
      "text/plain": [
       "{1: (0, 1), 2: (0, 2), 3: (0, 3)}"
      ]
     },
     "execution_count": 598,
     "metadata": {},
     "output_type": "execute_result"
    }
   ],
   "source": [
    "solution"
   ]
  },
  {
   "cell_type": "markdown",
   "metadata": {},
   "source": [
    "### 动态规划, 优化3,超出范围的dict改为默认0"
   ]
  },
  {
   "cell_type": "code",
   "execution_count": 337,
   "metadata": {},
   "outputs": [],
   "source": [
    "from collections import defaultdict"
   ]
  },
  {
   "cell_type": "code",
   "execution_count": 338,
   "metadata": {},
   "outputs": [],
   "source": [
    "price = defaultdict(int)"
   ]
  },
  {
   "cell_type": "code",
   "execution_count": 339,
   "metadata": {},
   "outputs": [],
   "source": [
    "for i,p in enumerate(original_price): price[i+1]=p"
   ]
  },
  {
   "cell_type": "code",
   "execution_count": 340,
   "metadata": {},
   "outputs": [],
   "source": [
    "# 优化3\n",
    "#动态规划组合基础上找最大收入，并记录分割点\n",
    "solution = {}\n",
    "def revenue(n):\n",
    "    candidates = []\n",
    "    if n>1:\n",
    "        for i in range(1,int(n/2+1)):\n",
    "            left = revenue(i)\n",
    "            right = revenue(n-i)\n",
    "            candidates.append( (left+right,i) )\n",
    "        \n",
    "#     if n not in price: price[n] = 0\n",
    "    candidates.append( (price[n],0) )\n",
    "#     print(candidates)\n",
    "    max_price,max_split = max(candidates, key=lambda x:x[0])\n",
    "    \n",
    "    global solution\n",
    "    solution[n]=(max_split, n - max_split)\n",
    "    \n",
    "    return max_price"
   ]
  },
  {
   "cell_type": "code",
   "execution_count": 341,
   "metadata": {},
   "outputs": [
    {
     "name": "stdout",
     "output_type": "stream",
     "text": [
      "CPU times: user 3.54 s, sys: 0 ns, total: 3.54 s\n",
      "Wall time: 3.53 s\n"
     ]
    },
    {
     "data": {
      "text/plain": [
       "66"
      ]
     },
     "execution_count": 341,
     "metadata": {},
     "output_type": "execute_result"
    }
   ],
   "source": [
    "%%time\n",
    "revenue(22)"
   ]
  },
  {
   "cell_type": "markdown",
   "metadata": {},
   "source": [
    "### 动态规划，优化4：保存中间结果，使用装饰器\n",
    "### Python 是可以 面向函数编程的语言, decorator 装饰器\n",
    "### 以计算函数时间为例"
   ]
  },
  {
   "cell_type": "code",
   "execution_count": 342,
   "metadata": {},
   "outputs": [],
   "source": [
    "from datetime import datetime\n",
    "import time"
   ]
  },
  {
   "cell_type": "code",
   "execution_count": 343,
   "metadata": {},
   "outputs": [],
   "source": [
    "def func_1(n):\n",
    "    begin = datetime.now()\n",
    "    sum = 0\n",
    "    for i in range(n**n):\n",
    "        sum += 1\n",
    "    print('used  time is {}'.format(datetime.now()-begin))\n",
    "    return sum"
   ]
  },
  {
   "cell_type": "code",
   "execution_count": 344,
   "metadata": {},
   "outputs": [],
   "source": [
    "def func_2(n):\n",
    "    begin = datetime.now()\n",
    "    time.sleep(1)\n",
    "    print('used  time is {}'.format(datetime.now()-begin))\n",
    "    return n"
   ]
  },
  {
   "cell_type": "code",
   "execution_count": 345,
   "metadata": {},
   "outputs": [
    {
     "name": "stdout",
     "output_type": "stream",
     "text": [
      "used  time is 0:00:00.806238\n"
     ]
    },
    {
     "data": {
      "text/plain": [
       "16777216"
      ]
     },
     "execution_count": 345,
     "metadata": {},
     "output_type": "execute_result"
    }
   ],
   "source": [
    "func_1(8)"
   ]
  },
  {
   "cell_type": "code",
   "execution_count": 346,
   "metadata": {},
   "outputs": [
    {
     "name": "stdout",
     "output_type": "stream",
     "text": [
      "used  time is 0:00:01.001515\n"
     ]
    },
    {
     "data": {
      "text/plain": [
       "8"
      ]
     },
     "execution_count": 346,
     "metadata": {},
     "output_type": "execute_result"
    }
   ],
   "source": [
    "func_2(8)"
   ]
  },
  {
   "cell_type": "code",
   "execution_count": 347,
   "metadata": {},
   "outputs": [],
   "source": [
    "def get_functime(func):\n",
    "    def _wrapper(n):\n",
    "        begin = datetime.now()\n",
    "        result = func(n)\n",
    "        print('used  time is {}'.format(datetime.now()-begin))\n",
    "        return result\n",
    "    return _wrapper"
   ]
  },
  {
   "cell_type": "code",
   "execution_count": 348,
   "metadata": {},
   "outputs": [],
   "source": [
    "def func_3(n):\n",
    "    sum = 0\n",
    "    for i in range(n**n):\n",
    "        sum += 1\n",
    "    return sum"
   ]
  },
  {
   "cell_type": "code",
   "execution_count": 349,
   "metadata": {},
   "outputs": [
    {
     "name": "stdout",
     "output_type": "stream",
     "text": [
      "used  time is 0:00:00.833190\n"
     ]
    },
    {
     "data": {
      "text/plain": [
       "16777216"
      ]
     },
     "execution_count": 349,
     "metadata": {},
     "output_type": "execute_result"
    }
   ],
   "source": [
    "func_3_withTime = get_functime(func_3)\n",
    "func_3_withTime(8)"
   ]
  },
  {
   "cell_type": "code",
   "execution_count": 350,
   "metadata": {},
   "outputs": [
    {
     "data": {
      "text/plain": [
       "'\\n@another_func\\ndef somefunc():\\n    pass\\n\\n=> somefunc = another_func(somefunc)\\n'"
      ]
     },
     "execution_count": 350,
     "metadata": {},
     "output_type": "execute_result"
    }
   ],
   "source": [
    "func_3 = get_functime(func_3)\n",
    "\"\"\"\n",
    "@another_func\n",
    "def somefunc():\n",
    "    pass\n",
    "\n",
    "=> somefunc = another_func(somefunc)\n",
    "\"\"\""
   ]
  },
  {
   "cell_type": "code",
   "execution_count": 351,
   "metadata": {},
   "outputs": [],
   "source": [
    "@get_functime\n",
    "def func_4(n):\n",
    "    sum = 0\n",
    "    for i in range(n**n):\n",
    "        sum += 1\n",
    "    return sum"
   ]
  },
  {
   "cell_type": "code",
   "execution_count": 352,
   "metadata": {},
   "outputs": [
    {
     "name": "stdout",
     "output_type": "stream",
     "text": [
      "used  time is 0:00:00.733535\n"
     ]
    },
    {
     "data": {
      "text/plain": [
       "16777216"
      ]
     },
     "execution_count": 352,
     "metadata": {},
     "output_type": "execute_result"
    }
   ],
   "source": [
    "func_4(8)"
   ]
  },
  {
   "cell_type": "code",
   "execution_count": 353,
   "metadata": {},
   "outputs": [],
   "source": [
    "def memo(func):\n",
    "    cache = {}\n",
    "    def _wrapper(n):\n",
    "        if n in cache:\n",
    "            result = cache[n]\n",
    "        else:\n",
    "            result = func(n)\n",
    "            cache[n] = result\n",
    "        \n",
    "        return result\n",
    "    return _wrapper"
   ]
  },
  {
   "cell_type": "code",
   "execution_count": 354,
   "metadata": {},
   "outputs": [],
   "source": [
    "#动态规划组合基础上找最大收入，并记录分割点, 计算执行时间\n",
    "solution = {}\n",
    "\n",
    "@memo\n",
    "def revenue(n):\n",
    "    candidates = []\n",
    "    if n>1:\n",
    "        for i in range(1,int(n/2+1)):\n",
    "            left = revenue(i)\n",
    "            right = revenue(n-i)\n",
    "            candidates.append( (left+right,i) )\n",
    "        \n",
    "#     if n not in price: price[n] = 0\n",
    "    candidates.append( (price[n],0) )\n",
    "#     print(candidates)\n",
    "    max_price,max_split = max(candidates, key=lambda x:x[0])\n",
    "    \n",
    "    global solution\n",
    "    solution[n]=(max_split, n - max_split)\n",
    "    \n",
    "    return max_price"
   ]
  },
  {
   "cell_type": "code",
   "execution_count": 355,
   "metadata": {},
   "outputs": [
    {
     "name": "stdout",
     "output_type": "stream",
     "text": [
      "CPU times: user 334 µs, sys: 9 µs, total: 343 µs\n",
      "Wall time: 347 µs\n"
     ]
    },
    {
     "data": {
      "text/plain": [
       "110"
      ]
     },
     "execution_count": 355,
     "metadata": {},
     "output_type": "execute_result"
    }
   ],
   "source": [
    "%%time\n",
    "revenue(37) "
   ]
  },
  {
   "cell_type": "code",
   "execution_count": 356,
   "metadata": {},
   "outputs": [
    {
     "data": {
      "text/plain": [
       "{1: (0, 1),\n",
       " 2: (0, 2),\n",
       " 3: (0, 3),\n",
       " 4: (2, 2),\n",
       " 5: (2, 3),\n",
       " 6: (0, 6),\n",
       " 7: (1, 6),\n",
       " 8: (2, 6),\n",
       " 9: (3, 6),\n",
       " 10: (0, 10),\n",
       " 11: (0, 11),\n",
       " 12: (2, 10),\n",
       " 13: (2, 11),\n",
       " 14: (3, 11),\n",
       " 15: (2, 13),\n",
       " 16: (6, 10),\n",
       " 17: (6, 11),\n",
       " 18: (2, 16),\n",
       " 19: (2, 17),\n",
       " 20: (10, 10),\n",
       " 21: (10, 11),\n",
       " 22: (11, 11),\n",
       " 23: (2, 21),\n",
       " 24: (2, 22),\n",
       " 25: (3, 22),\n",
       " 26: (6, 20),\n",
       " 27: (6, 21),\n",
       " 28: (6, 22),\n",
       " 29: (2, 27),\n",
       " 30: (10, 20),\n",
       " 31: (10, 21),\n",
       " 32: (10, 22),\n",
       " 33: (11, 22),\n",
       " 34: (2, 32),\n",
       " 35: (2, 33),\n",
       " 36: (3, 33),\n",
       " 37: (6, 31)}"
      ]
     },
     "execution_count": 356,
     "metadata": {},
     "output_type": "execute_result"
    }
   ],
   "source": [
    "solution"
   ]
  },
  {
   "cell_type": "markdown",
   "metadata": {},
   "source": [
    "### 动态规划，代码简化"
   ]
  },
  {
   "cell_type": "code",
   "execution_count": 637,
   "metadata": {},
   "outputs": [],
   "source": [
    "#动态规划，代码简化\n",
    "solution = {}\n",
    "cache = {}\n",
    "def revenue(n):\n",
    "    if  n in cache:\n",
    "        return cache[n]\n",
    "    else:\n",
    "        max_price,split_point = max([(price[n],0)]+[(revenue(split)+revenue(n-split),split) for split in range(1,n)])\n",
    "        global solution\n",
    "        solution[n] = [split_point,n-split_point]\n",
    "        cache[n] = max_price\n",
    "        return max_price"
   ]
  },
  {
   "cell_type": "code",
   "execution_count": 652,
   "metadata": {},
   "outputs": [
    {
     "data": {
      "text/plain": [
       "165"
      ]
     },
     "execution_count": 652,
     "metadata": {},
     "output_type": "execute_result"
    }
   ],
   "source": [
    "revenue(55)"
   ]
  },
  {
   "cell_type": "code",
   "execution_count": 641,
   "metadata": {},
   "outputs": [
    {
     "data": {
      "text/plain": [
       "{1: [0, 1],\n",
       " 2: [0, 2],\n",
       " 3: [0, 3],\n",
       " 4: [2, 2],\n",
       " 5: [3, 2],\n",
       " 6: [0, 6],\n",
       " 7: [6, 1],\n",
       " 8: [6, 2],\n",
       " 9: [6, 3],\n",
       " 10: [0, 10],\n",
       " 11: [0, 11],\n",
       " 12: [10, 2],\n",
       " 13: [11, 2],\n",
       " 14: [11, 3],\n",
       " 15: [13, 2],\n",
       " 16: [10, 6],\n",
       " 17: [11, 6],\n",
       " 18: [16, 2],\n",
       " 19: [17, 2]}"
      ]
     },
     "execution_count": 641,
     "metadata": {},
     "output_type": "execute_result"
    }
   ],
   "source": [
    "solution"
   ]
  },
  {
   "cell_type": "markdown",
   "metadata": {},
   "source": [
    "### Dynamic Programming: Parse Solution"
   ]
  },
  {
   "cell_type": "code",
   "execution_count": 649,
   "metadata": {},
   "outputs": [],
   "source": [
    "# Parse Solution\n",
    "def parse_solution(n, solution):\n",
    "    left,right = solution[n]\n",
    "    print('left is ', left, ' and right is ', right)\n",
    "    if left==0:\n",
    "        return [right]\n",
    "    return parse_solution(left,solution)+parse_solution(right,solution)"
   ]
  },
  {
   "cell_type": "code",
   "execution_count": 658,
   "metadata": {},
   "outputs": [
    {
     "name": "stdout",
     "output_type": "stream",
     "text": [
      "left is  21  and right is  2\n",
      "left is  11  and right is  10\n",
      "left is  0  and right is  11\n",
      "left is  0  and right is  10\n",
      "left is  0  and right is  2\n"
     ]
    },
    {
     "data": {
      "text/plain": [
       "[11, 10, 2]"
      ]
     },
     "execution_count": 658,
     "metadata": {},
     "output_type": "execute_result"
    }
   ],
   "source": [
    "parse_solution(23,solution)"
   ]
  },
  {
   "cell_type": "markdown",
   "metadata": {},
   "source": [
    "# 总结动态规划\n",
    "# 解决具备一定限制条件的最有问题\n",
    "\n",
    "### 1. 该问题可以被分解为多个子问题\n",
    "### 2. 子问题之间存在Overlapping（重合）\n",
    "### 3. 对Overlapping（重合）的子问题进行Cache（缓存），加速解决问题\n",
    "### 4. 构建parse solution函数，解析最终结果\n",
    "\n",
    "#### 应用方面\n",
    "* 1. Edit Distance 编辑距离\n",
    "* 2. 基因测序里的相似基因判断\n",
    "* 3. 图形学里的覆盖问题(图片里找回行列配对)\n",
    "* 4. 路径规划问题\n"
   ]
  },
  {
   "cell_type": "code",
   "execution_count": null,
   "metadata": {},
   "outputs": [],
   "source": []
  }
 ],
 "metadata": {
  "kernelspec": {
   "display_name": "Python 3",
   "language": "python",
   "name": "python3"
  },
  "language_info": {
   "codemirror_mode": {
    "name": "ipython",
    "version": 3
   },
   "file_extension": ".py",
   "mimetype": "text/x-python",
   "name": "python",
   "nbconvert_exporter": "python",
   "pygments_lexer": "ipython3",
   "version": "3.8.8"
  }
 },
 "nbformat": 4,
 "nbformat_minor": 4
}
